{
 "cells": [
  {
   "cell_type": "markdown",
   "metadata": {},
   "source": [
    "Tommy Truong- HW7"
   ]
  },
  {
   "cell_type": "markdown",
   "metadata": {},
   "source": [
    "Last Edit: May 20 2021"
   ]
  },
  {
   "cell_type": "markdown",
   "metadata": {},
   "source": [
    "We wish to model the expected value of money lost betting on six basketball teams during a tournament and study how this is minimized. Each team has a determined probability of losing the tournament and the expected value of money lost will be the probability of that team losing multiplied with the bet amount placed on that team. We are interested in showing the best strategy of betting to minimize losses. "
   ]
  },
  {
   "cell_type": "markdown",
   "metadata": {},
   "source": [
    "The function that represents the expected value of amount of money lost is given by J(x) = 0.1a + 0.2b + 0.3c + 0.2d + 0.1e + 0.1f. \n",
    "Here, the variables a, b, c, d, e, and f represents the amount of money placed on each team and the coefficents in front of each variable represent the probability of that team losing.  \n",
    "\n"
   ]
  },
  {
   "cell_type": "markdown",
   "metadata": {},
   "source": [
    "Here, J(x) = 0.1a + 0.2b + 0.3c + 0.2d +0.1e + 0.1f can be\n",
    "rewritten as \n"
   ]
  },
  {
   "cell_type": "code",
   "execution_count": 5,
   "metadata": {},
   "outputs": [
    {
     "name": "stdout",
     "output_type": "stream",
     "text": [
      "Requirement already satisfied: pulp in c:\\users\\pluss\\anaconda3\\lib\\site-packages (2.4)\n",
      "Requirement already satisfied: amply>=0.1.2 in c:\\users\\pluss\\anaconda3\\lib\\site-packages (from pulp) (0.1.4)\n",
      "Requirement already satisfied: docutils>=0.3 in c:\\users\\pluss\\anaconda3\\lib\\site-packages (from amply>=0.1.2->pulp) (0.16)\n",
      "Requirement already satisfied: pyparsing in c:\\users\\pluss\\anaconda3\\lib\\site-packages (from amply>=0.1.2->pulp) (2.4.7)\n"
     ]
    }
   ],
   "source": [
    "import sys \n",
    "!{sys.executable} -m pip install pulp "
   ]
  },
  {
   "cell_type": "code",
   "execution_count": 7,
   "metadata": {
    "scrolled": true
   },
   "outputs": [
    {
     "name": "stdout",
     "output_type": "stream",
     "text": [
      "Problem:\n",
      "MINIMIZE\n",
      "0.9*a + 0.8*b + 0.7*c + 0.8*d + 0.9*e + 0.9*f + 0.0\n",
      "SUBJECT TO\n",
      "_C1: a + b + c + d + e + f <= 50\n",
      "\n",
      "_C2: a + b + c + d + e + f >= 50\n",
      "\n",
      "_C3: a <= 20\n",
      "\n",
      "_C4: b <= 20\n",
      "\n",
      "_C5: c <= 20\n",
      "\n",
      "_C6: d <= 20\n",
      "\n",
      "_C7: e <= 20\n",
      "\n",
      "_C8: f <= 20\n",
      "\n",
      "VARIABLES\n",
      "a Continuous\n",
      "b Continuous\n",
      "c Continuous\n",
      "d Continuous\n",
      "e Continuous\n",
      "f Continuous\n",
      "\n",
      "Optimal\n",
      "x,y,minimum of the functional\n",
      "0.0 20.0 20.0 10.0 0.0 0.0 38.0\n"
     ]
    }
   ],
   "source": [
    "# import the library pulp as p \n",
    "import pulp as p \n",
    "  \n",
    "# Create a LP Minimization problem \n",
    "Lp_prob = p.LpProblem('Problem', p.LpMinimize)  \n",
    "  \n",
    "# Create problem Variables  \n",
    "a = p.LpVariable(\"a\", lowBound = 0)   # Create a variable x >= 0 \n",
    "b = p.LpVariable(\"b\", lowBound = 0)   # Create a variable y >= 0 \n",
    "c = p.LpVariable(\"c\", lowBound = 0)   # Create a variable x >= 0 \n",
    "d = p.LpVariable(\"d\", lowBound = 0)   # Create a variable y >= 0 \n",
    "e = p.LpVariable(\"e\", lowBound = 0)   # Create a variable x >= 0 \n",
    "f = p.LpVariable(\"f\", lowBound = 0)   # Create a variable y >= 0 \n",
    "\n",
    "# Objective Function \n",
    "Lp_prob += 0.9*a + 0.8*b + 0.7*c + 0.8*d +0.9*e +0.9*f\n",
    "  \n",
    "# Constraints: \n",
    "Lp_prob += a + b + c + d + e + f <= 50 \n",
    "Lp_prob += a + b + c + d + e + f >= 50 \n",
    "Lp_prob +=  0 <= a <= 20\n",
    "Lp_prob +=  0 <= b <= 20\n",
    "Lp_prob +=  0 <= c <= 20\n",
    "Lp_prob +=  0 <= d <= 20\n",
    "Lp_prob +=  0 <= e <= 20\n",
    "Lp_prob +=  0 <= f <= 20\n",
    "\n",
    "# Display the problem \n",
    "print(Lp_prob) \n",
    "  \n",
    "status = Lp_prob.solve()   # Solver \n",
    "print(p.LpStatus[status])   # The solution status \n",
    "  \n",
    "# Printing the final solution \n",
    "print('x,y,minimum of the functional')\n",
    "print(p.value(a), p.value(b), p.value(c), p.value(d), p.value(e), p.value(f), p.value(Lp_prob.objective))"
   ]
  },
  {
   "cell_type": "code",
   "execution_count": null,
   "metadata": {},
   "outputs": [],
   "source": []
  }
 ],
 "metadata": {
  "kernelspec": {
   "display_name": "Python 3",
   "language": "python",
   "name": "python3"
  },
  "language_info": {
   "codemirror_mode": {
    "name": "ipython",
    "version": 3
   },
   "file_extension": ".py",
   "mimetype": "text/x-python",
   "name": "python",
   "nbconvert_exporter": "python",
   "pygments_lexer": "ipython3",
   "version": "3.8.5"
  }
 },
 "nbformat": 4,
 "nbformat_minor": 4
}
