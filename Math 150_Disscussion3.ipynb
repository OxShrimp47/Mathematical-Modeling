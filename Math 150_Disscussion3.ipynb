{
 "cells": [
  {
   "cell_type": "markdown",
   "metadata": {},
   "source": [
    "##### Tommy Lee Truong"
   ]
  },
  {
   "cell_type": "markdown",
   "metadata": {},
   "source": [
    "##### Stefany Arevalo\n"
   ]
  },
  {
   "cell_type": "markdown",
   "metadata": {},
   "source": [
    "##### Andres Hernandez\n"
   ]
  },
  {
   "cell_type": "markdown",
   "metadata": {},
   "source": [
    "#### Discussion 3"
   ]
  },
  {
   "cell_type": "markdown",
   "metadata": {},
   "source": [
    "Last Edit: May 20 2021"
   ]
  },
  {
   "cell_type": "markdown",
   "metadata": {},
   "source": [
    "#### Q1a) $\\frac{dy}{dt}=\\alpha y ln(\\frac{M}{y}), y(0)=2$"
   ]
  },
  {
   "cell_type": "markdown",
   "metadata": {},
   "source": [
    "$y(t)=A e^{ln(B) e^{Ct}}$, determine A,B,C"
   ]
  },
  {
   "cell_type": "markdown",
   "metadata": {},
   "source": [
    "$\\frac{dy}{dt}=\\alpha y ln(\\frac{M}{y})$"
   ]
  },
  {
   "cell_type": "markdown",
   "metadata": {},
   "source": [
    "$\\frac{dy}{dt}(\\frac{1}{y ln(\\frac{M}{y})})=\\alpha $"
   ]
  },
  {
   "cell_type": "markdown",
   "metadata": {},
   "source": [
    "let $u=ln(\\frac{M}{y})=ln(M)-ln(y),du=-\\frac{1}{y}dy$"
   ]
  },
  {
   "cell_type": "markdown",
   "metadata": {},
   "source": [
    "$\\frac{du}{dt}(\\frac{1}{u})=-\\alpha $"
   ]
  },
  {
   "cell_type": "markdown",
   "metadata": {},
   "source": [
    "$ln(u)=-\\alpha t +c$"
   ]
  },
  {
   "cell_type": "markdown",
   "metadata": {},
   "source": [
    "$u=e^{-\\alpha t +c}=e^{-\\alpha t}e^c=ce^{-\\alpha t}=ln(\\frac{M}{y})$"
   ]
  },
  {
   "cell_type": "markdown",
   "metadata": {},
   "source": [
    "$\\frac{M}{y}=e^{ce^{-\\alpha t}}$"
   ]
  },
  {
   "cell_type": "markdown",
   "metadata": {},
   "source": [
    "$y=\\frac{M}{e^{ce^{-\\alpha t }}}=M e^{-ce^{-\\alpha t }}=A e^{ln(B) e^{Ct}}$"
   ]
  },
  {
   "cell_type": "markdown",
   "metadata": {},
   "source": [
    "$A=M,ln(B)=c \\implies B=e^{c}=c,C=-\\alpha$"
   ]
  },
  {
   "cell_type": "markdown",
   "metadata": {},
   "source": [
    "$y(0)=M e^{ce^{\\alpha (0) }}=M e^{ce^0}=Me^{c}=Mc=2$"
   ]
  },
  {
   "cell_type": "markdown",
   "metadata": {},
   "source": [
    "$c=\\frac{2}{M}$"
   ]
  },
  {
   "cell_type": "markdown",
   "metadata": {},
   "source": [
    "$𝐴=𝑀,𝐵=\\frac{2}{M},𝐶=-𝛼$"
   ]
  },
  {
   "cell_type": "markdown",
   "metadata": {},
   "source": [
    "#### Q1b) Gompertz Growth Model:"
   ]
  },
  {
   "cell_type": "markdown",
   "metadata": {},
   "source": [
    "$\\frac{dy}{dt}=\\alpha y ln(\\frac{M}{y})\\implies y= M e^{ln(\\frac{2}{M})e^{-\\alpha t }}$"
   ]
  },
  {
   "cell_type": "markdown",
   "metadata": {},
   "source": [
    "Exponential Model: $\\frac{dy}{dt}=\\alpha y$"
   ]
  },
  {
   "cell_type": "markdown",
   "metadata": {},
   "source": [
    "$\\frac{dy}{dt}(\\frac{1}{y})=\\alpha$"
   ]
  },
  {
   "cell_type": "markdown",
   "metadata": {},
   "source": [
    "$ln(y)=\\alpha t +c$"
   ]
  },
  {
   "cell_type": "markdown",
   "metadata": {},
   "source": [
    "$y=e^{\\alpha t +c}=ce^{\\alpha t}$"
   ]
  },
  {
   "cell_type": "markdown",
   "metadata": {},
   "source": [
    "$y(0)=ce^{\\alpha (0)}=c=2$"
   ]
  },
  {
   "cell_type": "markdown",
   "metadata": {},
   "source": [
    "$y=2e^{\\alpha t}$"
   ]
  },
  {
   "cell_type": "markdown",
   "metadata": {},
   "source": [
    "Logistic Model: $\\frac{dy}{dt}=\\alpha y(1-\\frac{y}{M})$"
   ]
  },
  {
   "cell_type": "markdown",
   "metadata": {},
   "source": [
    "$\\frac{dy}{dt}(\\frac{1}{ y(1-\\frac{y}{M})})=\\alpha$"
   ]
  },
  {
   "cell_type": "markdown",
   "metadata": {},
   "source": [
    "$\\frac{dy}{dt}(\\frac{M}{y(M-y)})=\\alpha$"
   ]
  },
  {
   "cell_type": "markdown",
   "metadata": {},
   "source": [
    "$\\frac{M}{ (y)(M-y)}=\\frac{a}{y}+\\frac{b}{M-y}=\\frac{a(M-y)+b(y)}{(y)(M-y)}=\\frac{(a)(M)+(-a+b)y}{(y)(M-y)}\\to a=1 \\to b=1$"
   ]
  },
  {
   "cell_type": "markdown",
   "metadata": {},
   "source": [
    "$\\implies \\frac{dy}{dt}(\\frac{M}{y(M-y)})=\\frac{dy}{dt}(\\frac{1}{y}+\\frac{1}{(M-y)})=\\alpha$"
   ]
  },
  {
   "cell_type": "markdown",
   "metadata": {},
   "source": [
    "$ln(y)-ln(M-y)=\\alpha t +c$"
   ]
  },
  {
   "cell_type": "markdown",
   "metadata": {},
   "source": [
    "$ln(\\frac{y}{M-y})=\\alpha t +c$"
   ]
  },
  {
   "cell_type": "markdown",
   "metadata": {},
   "source": [
    "$\\frac{y}{M-y}=e^{\\alpha t}e^{c}=ce^{\\alpha t}$"
   ]
  },
  {
   "cell_type": "markdown",
   "metadata": {},
   "source": [
    "$y=Mce^{\\alpha t}-yce^{\\alpha t}$"
   ]
  },
  {
   "cell_type": "markdown",
   "metadata": {},
   "source": [
    "$y(1+ce^{\\alpha t})=Mce^{\\alpha t}$"
   ]
  },
  {
   "cell_type": "markdown",
   "metadata": {},
   "source": [
    "$y=\\frac{Mce^{\\alpha t}}{1+ce^{\\alpha t}}$"
   ]
  },
  {
   "cell_type": "markdown",
   "metadata": {},
   "source": [
    "$y(0)=\\frac{Mce^{\\alpha (0)}}{1+ce^{\\alpha (0)}}=\\frac{Mc}{1+c}=2$"
   ]
  },
  {
   "cell_type": "markdown",
   "metadata": {},
   "source": [
    "$Mc=2+2c$"
   ]
  },
  {
   "cell_type": "markdown",
   "metadata": {},
   "source": [
    "$Mc-2c=2$"
   ]
  },
  {
   "cell_type": "markdown",
   "metadata": {},
   "source": [
    "$c=\\frac{2}{M-2}$"
   ]
  },
  {
   "cell_type": "markdown",
   "metadata": {},
   "source": [
    "$y=\\frac{M(\\frac{2}{M-2})e^{\\alpha t}}{1+(\\frac{2}{M-2})e^{\\alpha t}}=\\frac{2Me^{\\alpha t}}{(M-2)(1+(\\frac{2}{M-2})e^{\\alpha t})}$"
   ]
  },
  {
   "cell_type": "code",
   "execution_count": 43,
   "metadata": {},
   "outputs": [
    {
     "data": {
      "image/png": "[encoded data removed]",
      "text/plain": [
       "<Figure size 432x288 with 1 Axes>"
      ]
     },
     "metadata": {
      "needs_background": "light"
     },
     "output_type": "display_data"
    },
    {
     "data": {
      "image/png": "[encoded data removed]",
      "text/plain": [
       "<Figure size 432x288 with 1 Axes>"
      ]
     },
     "metadata": {
      "needs_background": "light"
     },
     "output_type": "display_data"
    }
   ],
   "source": [
    "import matplotlib\n",
    "import pandas as pd\n",
    "from matplotlib import pyplot as plt\n",
    "import numpy as np\n",
    "file = 'data.csv'\n",
    "df = pd.read_csv(file)\n",
    "alpha=0.5\n",
    "M=5\n",
    "t= df.iloc[:,0]\n",
    "y0=2\n",
    "y1=lambda t: y0*np.e**(alpha*t)\n",
    "y2=lambda t: ((M*y0)/(M-y0))*((np.e**(alpha*t))/(1+((2*y0)/(M-y0))*np.e**(alpha*t)))\n",
    "y3=lambda t: M*np.exp(np.log(2/M)*(np.exp(-alpha*t)))\n",
    "y4=df.iloc[:,1]\n",
    "plt.plot(t,y1(t),'r--+')\n",
    "plt.plot(t,y2(t),'b--+')\n",
    "plt.plot(t,y3(t),'g--+')\n",
    "plt.plot(t,y4,'y+')\n",
    "plt.xlabel(\"$t$\")\n",
    "plt.ylabel(\"$y$\")\n",
    "plt.title('Q1b w/ expeonential')\n",
    "plt.legend([\"$exponential$\",\" $logistic$\",\"$gompertz$\",\"$data$\"])\n",
    "plt.show()\n",
    "plt.plot(t,y2(t),'b--+')\n",
    "plt.plot(t,y3(t),'g--+')\n",
    "plt.plot(t,y4,'y+')\n",
    "plt.xlabel(\"$t$\")\n",
    "plt.ylabel(\"$y$\")\n",
    "plt.title('Q1b w/o expeonential')\n",
    "plt.legend([\" $logistic$\",\"$gompertz$\",\"$data$\"])\n",
    "plt.show()"
   ]
  },
  {
   "cell_type": "markdown",
   "metadata": {},
   "source": [
    "The data pesented seems to follow a logistic shape. This removes exponential models from being a solution. Upon closer inspection it becomes clare that the data reaches capacity at y=5 thus M=5.Through testing random values for alpha  reveal that the data can be perfectly represented by the gompertz model. further testing shows that the logistic model is not an option as it reaches a maximum of approximatly 2. Note that at very large values all graphs appear as a horizontal line and at very small values all graphs appear exponential.The former issue is simply a result of scaling but the latter highlights the nature of logistic functions having exponential behaviors at its start."
   ]
  }
 ],
 "metadata": {
  "kernelspec": {
   "display_name": "Python 3",
   "language": "python",
   "name": "python3"
  },
  "language_info": {
   "codemirror_mode": {
    "name": "ipython",
    "version": 3
   },
   "file_extension": ".py",
   "mimetype": "text/x-python",
   "name": "python",
   "nbconvert_exporter": "python",
   "pygments_lexer": "ipython3",
   "version": "3.8.5"
  }
 },
 "nbformat": 4,
 "nbformat_minor": 4
}
